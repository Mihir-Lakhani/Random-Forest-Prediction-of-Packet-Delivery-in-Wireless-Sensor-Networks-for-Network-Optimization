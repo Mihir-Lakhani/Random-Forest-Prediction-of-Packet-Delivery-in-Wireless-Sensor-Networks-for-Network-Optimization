{
 "cells": [
  {
   "cell_type": "markdown",
   "id": "3cf5b7df",
   "metadata": {},
   "source": [
    "# Exploratory Data Analysis (EDA)\n",
    "This notebook explores the WSN dataset, visualizes distributions, and investigates relationships between features and targets."
   ]
  },
  {
   "cell_type": "code",
   "execution_count": null,
   "id": "cbda6071",
   "metadata": {},
   "outputs": [],
   "source": [
    "import pandas as pd\n",
    "import matplotlib.pyplot as plt\n",
    "import seaborn as sns\n",
    "\n",
    "df = pd.read_csv('../data/wsn_dataset.csv')\n",
    "df.head()"
   ]
  },
  {
   "cell_type": "markdown",
   "id": "628c234e",
   "metadata": {},
   "source": [
    "## Dataset Info and Missing Values"
   ]
  },
  {
   "cell_type": "code",
   "execution_count": null,
   "id": "0712829e",
   "metadata": {},
   "outputs": [],
   "source": [
    "df.info()\n",
    "df.isnull().sum()"
   ]
  },
  {
   "cell_type": "markdown",
   "id": "2bf91f2d",
   "metadata": {},
   "source": [
    "## Feature Distributions"
   ]
  },
  {
   "cell_type": "code",
   "execution_count": null,
   "id": "5f3c5c6e",
   "metadata": {},
   "outputs": [],
   "source": [
    "numeric_cols = df.select_dtypes(include=['float64', 'int64']).columns\n",
    "df[numeric_cols].hist(figsize=(12,8))\n",
    "plt.tight_layout()\n",
    "plt.show()"
   ]
  },
  {
   "cell_type": "markdown",
   "id": "de1030c3",
   "metadata": {},
   "source": [
    "## Categorical Feature Counts"
   ]
  },
  {
   "cell_type": "code",
   "execution_count": null,
   "id": "b126a63d",
   "metadata": {},
   "outputs": [],
   "source": [
    "categorical_cols = ['Node_ID', 'Congestion_Status', 'Latency_Category']\n",
    "for col in categorical_cols:\n",
    "    sns.countplot(x=col, data=df)\n",
    "    plt.title(f'{col} Distribution')\n",
    "    plt.show()"
   ]
  },
  {
   "cell_type": "markdown",
   "id": "a7457c5c",
   "metadata": {},
   "source": [
    "## Correlation Heatmap"
   ]
  },
  {
   "cell_type": "code",
   "execution_count": null,
   "id": "7b775161",
   "metadata": {},
   "outputs": [],
   "source": [
    "plt.figure(figsize=(10,7))\n",
    "sns.heatmap(df.corr(numeric_only=True), annot=True, cmap='coolwarm')\n",
    "plt.title('Correlation Heatmap')\n",
    "plt.show()"
   ]
  },
  {
   "cell_type": "markdown",
   "id": "a86df63c",
   "metadata": {},
   "source": [
    "## Pairplot for Key Features"
   ]
  },
  {
   "cell_type": "code",
   "execution_count": null,
   "id": "58a30935",
   "metadata": {},
   "outputs": [],
   "source": [
    "sns.pairplot(df, hue='Latency_Category', vars=['Packet_Size', 'Energy_Level', 'Link_Quality', 'PDR'])\n",
    "plt.show()"
   ]
  }
 ],
 "metadata": {
  "language_info": {
   "name": "python"
  }
 },
 "nbformat": 4,
 "nbformat_minor": 5
}
